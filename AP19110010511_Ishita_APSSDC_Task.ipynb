{
 "cells": [
  {
   "cell_type": "code",
   "execution_count": 5,
   "metadata": {},
   "outputs": [
    {
     "name": "stdout",
     "output_type": "stream",
     "text": [
      "Enter your Age: 19\n",
      "Person can vote\n"
     ]
    }
   ],
   "source": [
    "#program to show if a person is eligible to vote or not\n",
    "s = int(input(\"Enter your Age: \"))\n",
    "if(s>=18):\n",
    "    print(\"Person can vote\")\n",
    "else:\n",
    "    print(\"Person cannot vote\")"
   ]
  },
  {
   "cell_type": "code",
   "execution_count": 4,
   "metadata": {},
   "outputs": [
    {
     "name": "stdout",
     "output_type": "stream",
     "text": [
      "Enter the number: -1\n",
      "-1 is negative\n"
     ]
    }
   ],
   "source": [
    "#program to check whether the given number is positive or negative\n",
    "s = int(input(\"Enter the number: \"))\n",
    "if(s>=0):\n",
    "    print(\"{0} is positive\".format(s))\n",
    "else:\n",
    "    print(\"{0} is negative\".format(s))"
   ]
  },
  {
   "cell_type": "code",
   "execution_count": 2,
   "metadata": {},
   "outputs": [
    {
     "name": "stdout",
     "output_type": "stream",
     "text": [
      "Enter the number: 16\n",
      "16 is even and divisble by 4\n"
     ]
    }
   ],
   "source": [
    "#program to check the given number is even or odd if it's even check which is divisible by 4 or not\n",
    "s = int(input(\"Enter the number: \"))\n",
    "if (s % 2) == 0:\n",
    "    if(s % 4) == 0:\n",
    "        print(\"{0} is even and divisble by 4\".format(s))\n",
    "    else:\n",
    "        print(\"{0} is even but not divisble by 4\".format(s))\n",
    "else:\n",
    "    print(\"{0} is odd\".format(s))"
   ]
  },
  {
   "cell_type": "code",
   "execution_count": 1,
   "metadata": {},
   "outputs": [
    {
     "name": "stdout",
     "output_type": "stream",
     "text": [
      "Enter the 5 subject marks: \n",
      "Enter math marks: 40\n",
      "Enter science marks: 50\n",
      "Enter hindi marks: 60\n",
      "Enter engish marks: 70\n",
      "Enter social marks: 80\n",
      "Student have passed the examination\n"
     ]
    }
   ],
   "source": [
    "#write a program to print student grade based on persentage like Distinction,pass or fail\n",
    "print(\"Enter the 5 subject marks: \")\n",
    "math = int(input(\"Enter math marks: \"))\n",
    "sci = int(input(\"Enter science marks: \"))\n",
    "hin = int(input(\"Enter hindi marks: \"))\n",
    "eng = int(input(\"Enter engish marks: \"))\n",
    "soc = int(input(\"Enter social marks: \"))\n",
    "\n",
    "total = math + sci + hin + eng + soc\n",
    "avg = (total/500) * 100\n",
    "\n",
    "if avg >= 90:\n",
    "    print(\"Student have passed the examination on distinction level\")\n",
    "elif avg >= 40:\n",
    "    print(\"Student have passed the examination\")\n",
    "elif avg < 40:\n",
    "    print(\"Student have failed the examination\")\n",
    "else:\n",
    "    print(\"Invalid Input\")"
   ]
  },
  {
   "cell_type": "code",
   "execution_count": 7,
   "metadata": {},
   "outputs": [
    {
     "name": "stdout",
     "output_type": "stream",
     "text": [
      "Enter the year: 2001\n",
      "2001 is not a leap year\n"
     ]
    }
   ],
   "source": [
    "#program to check the given year is Leap or not\n",
    "s = int(input(\"Enter the year: \"))\n",
    "if (s % 4) == 0:\n",
    "    if (s % 100) == 0:\n",
    "        if(s % 400) == 0:\n",
    "            print(\"{0} is a leap year\".format(s))\n",
    "        else:\n",
    "            print(\"{0} is not a leap year\".format(s))\n",
    "    else:\n",
    "        print(\"{0} is a leap year\".format(s))\n",
    "else:\n",
    "    print(\"{0} is not a leap year\".format(s))\n"
   ]
  }
 ],
 "metadata": {
  "kernelspec": {
   "display_name": "Python 3",
   "language": "python",
   "name": "python3"
  },
  "language_info": {
   "codemirror_mode": {
    "name": "ipython",
    "version": 3
   },
   "file_extension": ".py",
   "mimetype": "text/x-python",
   "name": "python",
   "nbconvert_exporter": "python",
   "pygments_lexer": "ipython3",
   "version": "3.7.3"
  }
 },
 "nbformat": 4,
 "nbformat_minor": 2
}
