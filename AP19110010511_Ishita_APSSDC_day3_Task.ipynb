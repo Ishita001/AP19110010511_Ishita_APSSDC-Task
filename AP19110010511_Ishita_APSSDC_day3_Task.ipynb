{
 "cells": [
  {
   "cell_type": "code",
   "execution_count": 1,
   "metadata": {},
   "outputs": [
    {
     "name": "stdout",
     "output_type": "stream",
     "text": [
      "Enter your roll number: AP19110010211\n",
      "Student is in ECE department\n"
     ]
    }
   ],
   "source": [
    "#Take last three values of your roll number(AP19110010211)\n",
    "#if value starts with 01--> CSE department\n",
    "#if value starts with 11--> IT department\n",
    "#if value starts with 21--> ECE department\n",
    "#else not a student of srm\n",
    "s = str(input(\"Enter your roll number: \"))\n",
    "if s[-3:].startswith('01'):\n",
    "    print(\"Student is in CSE department\")\n",
    "elif s[-3:].startswith('11'):\n",
    "    print(\"Student is in IT department\")\n",
    "elif s[-3:].startswith('21'):\n",
    "     print(\"Student is in ECE department\")\n",
    "else:\n",
    "     print(\"Student is not from srm\")"
   ]
  },
  {
   "cell_type": "code",
   "execution_count": 5,
   "metadata": {},
   "outputs": [
    {
     "name": "stdout",
     "output_type": "stream",
     "text": [
      "1804\t1808\t1812\t1816\t1820\t1824\t1828\t1832\t1836\t1840\t1844\t1848\t1852\t1856\t1860\t1864\t1868\t1872\t1876\t1880\t1884\t1888\t1892\t1896\t1904\t1908\t1912\t1916\t1920\t1924\t1928\t1932\t1936\t1940\t1944\t1948\t1952\t1956\t1960\t1964\t1968\t1972\t1976\t1980\t1984\t1988\t1992\t1996\t2000\t2004\t2008\t2012\t2016\t2020\t"
     ]
    }
   ],
   "source": [
    "#Find the leap year between 1800 to 2020\n",
    "for year in range(1800,2021):\n",
    "    if(year % 4 == 0 and year % 100 != 0) or (year % 400 == 0):\n",
    "        print(year, end = \"\\t\")\n",
    "    "
   ]
  }
 ],
 "metadata": {
  "kernelspec": {
   "display_name": "Python 3",
   "language": "python",
   "name": "python3"
  },
  "language_info": {
   "codemirror_mode": {
    "name": "ipython",
    "version": 3
   },
   "file_extension": ".py",
   "mimetype": "text/x-python",
   "name": "python",
   "nbconvert_exporter": "python",
   "pygments_lexer": "ipython3",
   "version": "3.7.3"
  }
 },
 "nbformat": 4,
 "nbformat_minor": 2
}
