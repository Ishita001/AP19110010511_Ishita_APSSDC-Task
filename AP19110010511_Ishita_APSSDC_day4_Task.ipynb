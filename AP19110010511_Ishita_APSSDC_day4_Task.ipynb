{
 "cells": [
  {
   "cell_type": "code",
   "execution_count": 1,
   "metadata": {},
   "outputs": [
    {
     "name": "stdout",
     "output_type": "stream",
     "text": [
      "Enter the string: Ishi\n",
      "Even\n",
      "Middle charcter of string are:  sh\n"
     ]
    }
   ],
   "source": [
    "#take the user input of a string\n",
    "#show whether the string is odd or even \n",
    "#if its even print two middle element \n",
    "#if its odd print the middle character\n",
    "string1 = input(\"Enter the string: \")\n",
    "\n",
    "if (len(string1) % 2) == 0:\n",
    "    print(\"Even\")\n",
    "    middle = string1[((len(string1)//2)-1):((len(string1)//2)+1)]\n",
    "    print(\"Middle charcter of string are: \",middle)\n",
    "else:\n",
    "    print(\"odd\")\n",
    "    middle = string1[len(string1)//2]\n",
    "    print(\"Middle charcter of string are: \",middle)"
   ]
  }
 ],
 "metadata": {
  "kernelspec": {
   "display_name": "Python 3",
   "language": "python",
   "name": "python3"
  },
  "language_info": {
   "codemirror_mode": {
    "name": "ipython",
    "version": 3
   },
   "file_extension": ".py",
   "mimetype": "text/x-python",
   "name": "python",
   "nbconvert_exporter": "python",
   "pygments_lexer": "ipython3",
   "version": "3.7.3"
  }
 },
 "nbformat": 4,
 "nbformat_minor": 2
}
